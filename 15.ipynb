{
 "cells": [
  {
   "cell_type": "code",
   "execution_count": 2,
   "id": "af682a0c-4b0e-4057-bfe0-45ce79740830",
   "metadata": {},
   "outputs": [],
   "source": [
    "# Cai Thu Vien Scipy\n",
    "#!pip install scipy"
   ]
  },
  {
   "cell_type": "code",
   "execution_count": 3,
   "id": "5a4b5e72-ebc8-4224-9f79-e939dad64118",
   "metadata": {},
   "outputs": [],
   "source": [
    "from scipy import linalg\n",
    "import numpy as np"
   ]
  },
  {
   "cell_type": "code",
   "execution_count": 5,
   "id": "ec4a7a3e-d393-4630-b565-8f20d415d85c",
   "metadata": {},
   "outputs": [],
   "source": [
    "# Dinh Nghia he phuong tring tuyen tinh\n",
    "A = np.array([[2,1], [3,2]])\n",
    "B = np.array([5,7])"
   ]
  },
  {
   "cell_type": "code",
   "execution_count": 6,
   "id": "5d0f040e-731f-4f14-b611-90a9da70c066",
   "metadata": {},
   "outputs": [
    {
     "name": "stdout",
     "output_type": "stream",
     "text": [
      "Ket qua:  [ 3. -1.]\n"
     ]
    }
   ],
   "source": [
    "# Giai he phuong trinh tuyen tinh\n",
    "x = linalg.solve(A,B)\n",
    "print(\"Ket qua: \", x)"
   ]
  },
  {
   "cell_type": "code",
   "execution_count": 11,
   "id": "9ee0b9b5-9dc1-44ba-a1bc-b1512bad40ed",
   "metadata": {},
   "outputs": [
    {
     "name": "stdout",
     "output_type": "stream",
     "text": [
      "Tich phan f(x) tu 0 den 1:  (31.5, 3.497202527569243e-13)\n"
     ]
    }
   ],
   "source": [
    "# Tinh tich phan cua mot ham so\n",
    "from scipy import integrate\n",
    "\n",
    "# Dinh nghia f(x)=x^2\n",
    "def my_function(x):\n",
    "    return x**2+x+1;\n",
    "\n",
    "# Tinh tich phan cua f(x) tu 1 den 4\n",
    "integral = integrate.quad(my_function, 1, 4);\n",
    "print(\"Tich phan f(x) tu 0 den 1: \", integral)"
   ]
  },
  {
   "cell_type": "code",
   "execution_count": 13,
   "id": "151b9af2-42e1-4a70-a494-336d39e8b818",
   "metadata": {},
   "outputs": [
    {
     "name": "stdout",
     "output_type": "stream",
     "text": [
      "Gia Tri Rieng:  [3.73205081+0.j 0.26794919+0.j]\n",
      "Gia Tri Rieng:  [[ 0.5       -0.5      ]\n",
      " [ 0.8660254  0.8660254]]\n"
     ]
    }
   ],
   "source": [
    "from scipy import linalg\n",
    "import numpy as np\n",
    "\n",
    "# Tinh gia tri rieng va vector rieng cua 1 ma tran\n",
    "A = np.array([[2,1], [3,2]])\n",
    "\n",
    "# Tinh gia tri rieng va vector rieng:\n",
    "evals, evecs = linalg.eig(A)\n",
    "\n",
    "print(\"Gia Tri Rieng: \", evals)\n",
    "print(\"Gia Tri Rieng: \", evecs)"
   ]
  },
  {
   "cell_type": "code",
   "execution_count": null,
   "id": "5317aeea-89a0-4204-8f8e-94c59563dedb",
   "metadata": {},
   "outputs": [],
   "source": []
  },
  {
   "cell_type": "code",
   "execution_count": null,
   "id": "cc7830bc-512f-44a4-abe0-f498f3c47b06",
   "metadata": {},
   "outputs": [],
   "source": []
  }
 ],
 "metadata": {
  "kernelspec": {
   "display_name": "Python 3 (ipykernel)",
   "language": "python",
   "name": "python3"
  },
  "language_info": {
   "codemirror_mode": {
    "name": "ipython",
    "version": 3
   },
   "file_extension": ".py",
   "mimetype": "text/x-python",
   "name": "python",
   "nbconvert_exporter": "python",
   "pygments_lexer": "ipython3",
   "version": "3.12.4"
  }
 },
 "nbformat": 4,
 "nbformat_minor": 5
}
