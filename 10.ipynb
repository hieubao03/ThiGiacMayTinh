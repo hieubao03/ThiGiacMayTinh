{
 "cells": [
  {
   "cell_type": "code",
   "execution_count": 1,
   "id": "60a9bac5-89e3-4d3d-ae2d-66f8a9a8e3b1",
   "metadata": {},
   "outputs": [],
   "source": [
    "# import Thu Vien\n",
    "from PIL import Image\n",
    "import matplotlib.pyplot as plt"
   ]
  },
  {
   "cell_type": "code",
   "execution_count": 5,
   "id": "8cd92cbf-f31c-4179-9357-78421aa3341e",
   "metadata": {},
   "outputs": [
    {
     "name": "stdout",
     "output_type": "stream",
     "text": [
      "[(209.25483870967744, 432.9612903225806), (410.7516129032258, 464.34193548387094), (532.9709677419355, 431.3096774193548), (632.0677419354839, 401.5806451612903), (742.7258064516129, 385.06451612903226)]\n"
     ]
    }
   ],
   "source": [
    "# Đường dẫn ảnh\n",
    "my_path = 'C:/Users/Dell/Documents/srv_cv/img/01/03.jpg'\n",
    "\n",
    "# Đọc ảnh\n",
    "im = Image.open(my_path)\n",
    "\n",
    "# Chuyển đổi backend\n",
    "plt.switch_backend('tkagg')\n",
    "\n",
    "# Hiển thị ảnh\n",
    "plt.imshow(im)\n",
    "plt.title('Click on the image to select points')\n",
    "\n",
    "# Sử dụng hàm ginput để chọn điểm trên ảnh\n",
    "points = plt.ginput(5)\n",
    "\n",
    "print(points)\n",
    "\n",
    "# Hiển thị\n",
    "plt.show()"
   ]
  },
  {
   "cell_type": "code",
   "execution_count": 7,
   "id": "752889d8-4473-47db-a40d-67f575b3ed23",
   "metadata": {},
   "outputs": [],
   "source": [
    "# Vẽ lại các điểm đã chọn bằng dấu * màu đỏ\n",
    "plt.close()\n",
    "\n",
    "# Ve lai\n",
    "plt.imshow(im)\n",
    "\n",
    "for point in points:\n",
    "    x, y =  point\n",
    "    plt.plot(x, y, 'r*')\n",
    "\n",
    "plt.show()\n"
   ]
  },
  {
   "cell_type": "code",
   "execution_count": null,
   "id": "df919bcf-f08b-45db-b244-d94783f2e982",
   "metadata": {},
   "outputs": [],
   "source": []
  }
 ],
 "metadata": {
  "kernelspec": {
   "display_name": "Python 3 (ipykernel)",
   "language": "python",
   "name": "python3"
  },
  "language_info": {
   "codemirror_mode": {
    "name": "ipython",
    "version": 3
   },
   "file_extension": ".py",
   "mimetype": "text/x-python",
   "name": "python",
   "nbconvert_exporter": "python",
   "pygments_lexer": "ipython3",
   "version": "3.12.4"
  }
 },
 "nbformat": 4,
 "nbformat_minor": 5
}
