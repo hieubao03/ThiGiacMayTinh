{
 "cells": [
  {
   "cell_type": "code",
   "execution_count": 22,
   "id": "6f5f1a83-fc9b-443d-852d-49fb081c70bb",
   "metadata": {},
   "outputs": [],
   "source": [
    "import cv2\n",
    "import time"
   ]
  },
  {
   "cell_type": "code",
   "execution_count": 23,
   "id": "dbb73ce1-0a0b-4791-a058-2fe03ab5f2ae",
   "metadata": {},
   "outputs": [],
   "source": [
    "# Đọc video từ file\n",
    "camera = cv2.VideoCapture(0)"
   ]
  },
  {
   "cell_type": "code",
   "execution_count": 24,
   "id": "53feb393-45fa-4f60-9e07-dd44171af0f0",
   "metadata": {},
   "outputs": [],
   "source": [
    "# Tạo cửa sổ để hiển thị\n",
    "cv2.namedWindow('Video Player', cv2.WINDOW_NORMAL)\n",
    "# \n",
    "interval = 20\n",
    "count = 0"
   ]
  },
  {
   "cell_type": "code",
   "execution_count": 25,
   "id": "4826c4db-70df-406e-bd87-1cf893289a9d",
   "metadata": {},
   "outputs": [],
   "source": [
    "# Ghi text trên hình ảnh\n",
    "font = cv2.FONT_HERSHEY_SIMPLEX\n",
    "font_color = (255, 255, 255)\n",
    "font_scale = 1\n",
    "font_thicknes = 2"
   ]
  },
  {
   "cell_type": "code",
   "execution_count": 26,
   "id": "7c2ee736-0ea7-434d-90b9-ad972ad03193",
   "metadata": {},
   "outputs": [],
   "source": [
    "# Hiển thị từng khung ảnh\n",
    "while True:\n",
    "    # Thời gian trước khi đọc\n",
    "    start_time = time.time()\n",
    "    \n",
    "    # Đọc 1 frame\n",
    "    ret, frame = camera.read()\n",
    "\n",
    "    #tăng 1 ccount +1\n",
    "    count = count + 1 \n",
    "    if(count%interval==0):\n",
    "        cv2.imwrite(f'./img/img/img_{count}.jpg', frame)\n",
    "    \n",
    "    # Nếu không thể đọc được frame (tức là hết video), đặt lại về khung hình đầu tiên\n",
    "    if not ret:\n",
    "        camera.set(cv2.CAP_PROP_POS_FRAMES, 0)\n",
    "        continue\n",
    "    # Thời gian trước khi đọc\n",
    "    end_time = time.time()    \n",
    "    # Tình FPS:\n",
    "    fps = 1/(end_time-start_time)\n",
    "    # Ghi số lượng fps\n",
    "    cv2.putText(frame, f'FPS: {fps:.2f}', (100, 100), font, font_scale, font_color , font_thicknes)\n",
    "    # Hiển thị\n",
    "    cv2.imshow('Video Player', frame)\n",
    "    # Thoát nếu nhấn phím bất kì\n",
    "    if cv2.waitKey(1) != -1:\n",
    "        break"
   ]
  },
  {
   "cell_type": "code",
   "execution_count": 27,
   "id": "787dcea8-b725-4b35-8ec3-8c75098f632f",
   "metadata": {},
   "outputs": [],
   "source": [
    "# Giải phóng tài nguyên và đóng cửa sổ sau khi thoát\n",
    "camera.release()\n",
    "cv2.destroyAllWindows()"
   ]
  },
  {
   "cell_type": "code",
   "execution_count": null,
   "id": "f74fe014-8104-41ce-9124-d9e23f6cb00a",
   "metadata": {},
   "outputs": [],
   "source": []
  },
  {
   "cell_type": "code",
   "execution_count": null,
   "id": "9ed4b7d2-c28b-4bc1-a6d3-60e68840f452",
   "metadata": {},
   "outputs": [],
   "source": []
  }
 ],
 "metadata": {
  "kernelspec": {
   "display_name": "Python 3 (ipykernel)",
   "language": "python",
   "name": "python3"
  },
  "language_info": {
   "codemirror_mode": {
    "name": "ipython",
    "version": 3
   },
   "file_extension": ".py",
   "mimetype": "text/x-python",
   "name": "python",
   "nbconvert_exporter": "python",
   "pygments_lexer": "ipython3",
   "version": "3.12.4"
  }
 },
 "nbformat": 4,
 "nbformat_minor": 5
}
